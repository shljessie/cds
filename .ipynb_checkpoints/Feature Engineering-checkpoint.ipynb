{
 "cells": [
  {
   "cell_type": "code",
   "execution_count": 35,
   "metadata": {},
   "outputs": [],
   "source": [
    "import pandas as pd\n",
    "import numpy as np\n",
    "import matplotlib.pyplot as plt\n",
    "import glob\n",
    "import os"
   ]
  },
  {
   "cell_type": "code",
   "execution_count": 39,
   "metadata": {},
   "outputs": [
    {
     "data": {
      "text/plain": [
       "0"
      ]
     },
     "execution_count": 39,
     "metadata": {},
     "output_type": "execute_result"
    }
   ],
   "source": [
    "folder_path = '~/Downloads/csv/hashtags'\n",
    "all_files = glob.glob(os.path.join(folder_path, \"*.csv\"))\n",
    "\n",
    "dfs = [pd.read_csv(f) for f in all_files]\n",
    "\n",
    "len(dfs)\n",
    "\n"
   ]
  },
  {
   "cell_type": "code",
   "execution_count": null,
   "metadata": {},
   "outputs": [],
   "source": []
  },
  {
   "cell_type": "code",
   "execution_count": null,
   "metadata": {},
   "outputs": [],
   "source": []
  },
  {
   "cell_type": "code",
   "execution_count": null,
   "metadata": {},
   "outputs": [],
   "source": []
  },
  {
   "cell_type": "code",
   "execution_count": null,
   "metadata": {},
   "outputs": [],
   "source": []
  },
  {
   "cell_type": "code",
   "execution_count": null,
   "metadata": {},
   "outputs": [],
   "source": []
  },
  {
   "cell_type": "code",
   "execution_count": 6,
   "metadata": {},
   "outputs": [
    {
     "data": {
      "text/html": [
       "<div>\n",
       "<style scoped>\n",
       "    .dataframe tbody tr th:only-of-type {\n",
       "        vertical-align: middle;\n",
       "    }\n",
       "\n",
       "    .dataframe tbody tr th {\n",
       "        vertical-align: top;\n",
       "    }\n",
       "\n",
       "    .dataframe thead th {\n",
       "        text-align: right;\n",
       "    }\n",
       "</style>\n",
       "<table border=\"1\" class=\"dataframe\">\n",
       "  <thead>\n",
       "    <tr style=\"text-align: right;\">\n",
       "      <th></th>\n",
       "      <th>date</th>\n",
       "      <th>username</th>\n",
       "      <th>to</th>\n",
       "      <th>replies</th>\n",
       "      <th>retweets</th>\n",
       "      <th>favorites</th>\n",
       "      <th>text</th>\n",
       "      <th>geo</th>\n",
       "      <th>mentions</th>\n",
       "      <th>hashtags</th>\n",
       "      <th>id</th>\n",
       "      <th>permalink</th>\n",
       "    </tr>\n",
       "  </thead>\n",
       "  <tbody>\n",
       "    <tr>\n",
       "      <td>0</td>\n",
       "      <td>2020-03-24 23:39:17</td>\n",
       "      <td>colemankneifl</td>\n",
       "      <td>NaN</td>\n",
       "      <td>0</td>\n",
       "      <td>0</td>\n",
       "      <td>34</td>\n",
       "      <td>Got my #coronavirus Charmin backup plan in pla...</td>\n",
       "      <td>NaN</td>\n",
       "      <td>NaN</td>\n",
       "      <td>#coronavirus</td>\n",
       "      <td>1242596881043279874</td>\n",
       "      <td>https://twitter.com/colemankneifl/status/12425...</td>\n",
       "    </tr>\n",
       "    <tr>\n",
       "      <td>1</td>\n",
       "      <td>2020-03-24 23:14:57</td>\n",
       "      <td>YoGirlSpecter</td>\n",
       "      <td>NaN</td>\n",
       "      <td>70</td>\n",
       "      <td>634</td>\n",
       "      <td>2569</td>\n",
       "      <td>In this time of lockdown due to corona, i hope...</td>\n",
       "      <td>NaN</td>\n",
       "      <td>NaN</td>\n",
       "      <td>#CoronavirusLockdown #coronavirus</td>\n",
       "      <td>1242590758944665601</td>\n",
       "      <td>https://twitter.com/YoGirlSpecter/status/12425...</td>\n",
       "    </tr>\n",
       "    <tr>\n",
       "      <td>2</td>\n",
       "      <td>2020-03-24 23:01:49</td>\n",
       "      <td>larryelder</td>\n",
       "      <td>NaN</td>\n",
       "      <td>624</td>\n",
       "      <td>3451</td>\n",
       "      <td>9567</td>\n",
       "      <td>Los Angeles County has released 1,700 prisoner...</td>\n",
       "      <td>NaN</td>\n",
       "      <td>NaN</td>\n",
       "      <td>#coronavirus</td>\n",
       "      <td>1242587452075724800</td>\n",
       "      <td>https://twitter.com/larryelder/status/12425874...</td>\n",
       "    </tr>\n",
       "    <tr>\n",
       "      <td>3</td>\n",
       "      <td>2020-03-24 22:25:25</td>\n",
       "      <td>CBSThisMorning</td>\n",
       "      <td>NaN</td>\n",
       "      <td>8</td>\n",
       "      <td>157</td>\n",
       "      <td>551</td>\n",
       "      <td>Michelin star-winning chef Andrew Wong and the...</td>\n",
       "      <td>NaN</td>\n",
       "      <td>NaN</td>\n",
       "      <td>#coronavirus</td>\n",
       "      <td>1242578290965204992</td>\n",
       "      <td>https://twitter.com/CBSThisMorning/status/1242...</td>\n",
       "    </tr>\n",
       "    <tr>\n",
       "      <td>4</td>\n",
       "      <td>2020-03-24 22:18:50</td>\n",
       "      <td>TVietor08</td>\n",
       "      <td>NaN</td>\n",
       "      <td>188</td>\n",
       "      <td>3201</td>\n",
       "      <td>18657</td>\n",
       "      <td>Unless you too can rise from the dead I suspec...</td>\n",
       "      <td>NaN</td>\n",
       "      <td>NaN</td>\n",
       "      <td>#coronavirus</td>\n",
       "      <td>1242576636039454720</td>\n",
       "      <td>https://twitter.com/TVietor08/status/124257663...</td>\n",
       "    </tr>\n",
       "  </tbody>\n",
       "</table>\n",
       "</div>"
      ],
      "text/plain": [
       "                  date        username   to replies retweets favorites  \\\n",
       "0  2020-03-24 23:39:17   colemankneifl  NaN       0        0        34   \n",
       "1  2020-03-24 23:14:57   YoGirlSpecter  NaN      70      634      2569   \n",
       "2  2020-03-24 23:01:49      larryelder  NaN     624     3451      9567   \n",
       "3  2020-03-24 22:25:25  CBSThisMorning  NaN       8      157       551   \n",
       "4  2020-03-24 22:18:50       TVietor08  NaN     188     3201     18657   \n",
       "\n",
       "                                                text  geo mentions  \\\n",
       "0  Got my #coronavirus Charmin backup plan in pla...  NaN      NaN   \n",
       "1  In this time of lockdown due to corona, i hope...  NaN      NaN   \n",
       "2  Los Angeles County has released 1,700 prisoner...  NaN      NaN   \n",
       "3  Michelin star-winning chef Andrew Wong and the...  NaN      NaN   \n",
       "4  Unless you too can rise from the dead I suspec...  NaN      NaN   \n",
       "\n",
       "                            hashtags                   id  \\\n",
       "0                       #coronavirus  1242596881043279874   \n",
       "1  #CoronavirusLockdown #coronavirus  1242590758944665601   \n",
       "2                       #coronavirus  1242587452075724800   \n",
       "3                       #coronavirus  1242578290965204992   \n",
       "4                       #coronavirus  1242576636039454720   \n",
       "\n",
       "                                           permalink  \n",
       "0  https://twitter.com/colemankneifl/status/12425...  \n",
       "1  https://twitter.com/YoGirlSpecter/status/12425...  \n",
       "2  https://twitter.com/larryelder/status/12425874...  \n",
       "3  https://twitter.com/CBSThisMorning/status/1242...  \n",
       "4  https://twitter.com/TVietor08/status/124257663...  "
      ]
     },
     "execution_count": 6,
     "metadata": {},
     "output_type": "execute_result"
    }
   ],
   "source": [
    "western_us.head()"
   ]
  },
  {
   "cell_type": "code",
   "execution_count": null,
   "metadata": {},
   "outputs": [],
   "source": []
  }
 ],
 "metadata": {
  "kernelspec": {
   "display_name": "Python 3",
   "language": "python",
   "name": "python3"
  },
  "language_info": {
   "codemirror_mode": {
    "name": "ipython",
    "version": 3
   },
   "file_extension": ".py",
   "mimetype": "text/x-python",
   "name": "python",
   "nbconvert_exporter": "python",
   "pygments_lexer": "ipython3",
   "version": "3.7.4"
  }
 },
 "nbformat": 4,
 "nbformat_minor": 2
}
