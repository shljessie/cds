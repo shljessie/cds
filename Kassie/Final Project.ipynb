{
 "cells": [
  {
   "cell_type": "code",
   "execution_count": 3,
   "metadata": {},
   "outputs": [],
   "source": [
    "import pandas as pd\n",
    "import numpy as np\n",
    "import matplotlib.pyplot as plt\n",
    "import glob\n",
    "import os\n",
    "import datetime\n",
    "import matplotlib.dates as mdates"
   ]
  },
  {
   "cell_type": "code",
   "execution_count": 16,
   "metadata": {},
   "outputs": [
    {
     "name": "stderr",
     "output_type": "stream",
     "text": [
      "b'Skipping line 3: expected 5 fields, saw 6\\nSkipping line 625: expected 5 fields, saw 6\\nSkipping line 626: expected 5 fields, saw 6\\nSkipping line 627: expected 5 fields, saw 6\\nSkipping line 2972: expected 5 fields, saw 6\\nSkipping line 2973: expected 5 fields, saw 6\\nSkipping line 2974: expected 5 fields, saw 6\\nSkipping line 2975: expected 5 fields, saw 6\\n'\n",
      "/Users/kassiewang/opt/anaconda3/lib/python3.7/site-packages/pandas/core/frame.py:4102: SettingWithCopyWarning: \n",
      "A value is trying to be set on a copy of a slice from a DataFrame\n",
      "\n",
      "See the caveats in the documentation: http://pandas.pydata.org/pandas-docs/stable/user_guide/indexing.html#returning-a-view-versus-a-copy\n",
      "  errors=errors,\n",
      "/Users/kassiewang/opt/anaconda3/lib/python3.7/site-packages/ipykernel_launcher.py:6: SettingWithCopyWarning: \n",
      "A value is trying to be set on a copy of a slice from a DataFrame.\n",
      "Try using .loc[row_indexer,col_indexer] = value instead\n",
      "\n",
      "See the caveats in the documentation: http://pandas.pydata.org/pandas-docs/stable/user_guide/indexing.html#returning-a-view-versus-a-copy\n",
      "  \n",
      "/Users/kassiewang/opt/anaconda3/lib/python3.7/site-packages/pandas/core/frame.py:4223: SettingWithCopyWarning: \n",
      "A value is trying to be set on a copy of a slice from a DataFrame\n",
      "\n",
      "See the caveats in the documentation: http://pandas.pydata.org/pandas-docs/stable/user_guide/indexing.html#returning-a-view-versus-a-copy\n",
      "  return super().rename(**kwargs)\n"
     ]
    }
   ],
   "source": [
    "filepath = \"/Users/kassiewang/GitHub/cds/Kassie/422coronaclean.csv\"\n",
    "rawcorona = pd.read_csv(filepath, error_bad_lines=False)\n",
    "\n",
    "cleancorona = rawcorona[rawcorona['Country.Region'].str.contains('US', case = True, regex = True)]\n",
    "cleancorona.drop('Country.Region', 1, inplace = True)\n",
    "cleancorona['ObservationDate'] = pd.to_datetime(cleancorona['ObservationDate'])\n",
    "cleancorona.rename(columns = {'ObservationDate':'date'}, inplace = True)"
   ]
  },
  {
   "cell_type": "code",
   "execution_count": 17,
   "metadata": {},
   "outputs": [],
   "source": [
    "rawtweets = pd.read_csv(\"/Users/kassiewang/GitHub/cds/final_csv/us.csv\")\n",
    "rawtweets = rawtweets.drop(rawtweets.columns[[0]], axis = 1)\n",
    "rawtweets['Date'] = rawtweets['Date'].str[:10]\n",
    "rawtweets['Date'] = pd.to_datetime(rawtweets['Date'], errors='coerce')\n",
    "rawtweets.rename(columns = {'Date': 'date'}, inplace = True)\n",
    "\n",
    "tweetct = rawtweets.groupby(['date']).agg('count')\n",
    "tweetct.rename(columns = {'Text':'tweetct'}, inplace = True)"
   ]
  },
  {
   "cell_type": "code",
   "execution_count": 27,
   "metadata": {},
   "outputs": [],
   "source": [
    "finaldf = pd.merge(tweetct, cleancorona, how='inner', on = 'date')\n",
    "finaldf\n",
    "finaldf.to_csv('/Users/kassiewang/GitHub/cds/final_csv/featureengFINAL.csv', index = False)"
   ]
  },
  {
   "cell_type": "code",
   "execution_count": 25,
   "metadata": {},
   "outputs": [
    {
     "data": {
      "image/png": "[encoded data removed]",
      "text/plain": [
       "<Figure size 432x288 with 2 Axes>"
      ]
     },
     "metadata": {
      "needs_background": "light"
     },
     "output_type": "display_data"
    }
   ],
   "source": [
    "x = finaldf['date']\n",
    "y1 = finaldf['tweetct']\n",
    "y2 = finaldf['Confirmed']\n",
    "\n",
    "fig, ax1 = plt.subplots()\n",
    "\n",
    "ax2 = ax1.twinx()\n",
    "ax1.plot(x, y1, 'g-')\n",
    "ax2.plot(x, y2, 'b-')\n",
    "\n",
    "ax1.set_xlabel('Date')\n",
    "ax1.set_ylabel('Number of tweets', color='g')\n",
    "ax2.set_ylabel('Confirmed Cases', color='b')\n",
    "\n",
    "ax1.xaxis.set_tick_params(rotation=90)\n",
    "plt.show()\n"
   ]
  },
  {
   "cell_type": "code",
   "execution_count": 26,
   "metadata": {},
   "outputs": [
    {
     "name": "stdout",
     "output_type": "stream",
     "text": [
      "Pearson: 0.359\n"
     ]
    }
   ],
   "source": [
    "from scipy.stats import pearsonr\n",
    "\n",
    "corr, _ = pearsonr(finaldf['tweetct'], finaldf['Confirmed'])\n",
    "print('Pearson: %.3f' % corr)\n"
   ]
  },
  {
   "cell_type": "code",
   "execution_count": 1,
   "metadata": {},
   "outputs": [],
   "source": [
    "import string\n",
    "from nltk.stem import WordNetLemmatizer\n",
    "from nltk.corpus import stopwords\n",
    "from nltk.tokenize import RegexpTokenizer\n",
    "from nltk.stem.porter import PorterStemmer\n",
    "import nltk\n",
    "import re\n",
    "from nltk import sent_tokenize, word_tokenize\n",
    "from nltk.stem.snowball import SnowballStemmer\n",
    "from itertools import islice\n",
    "from sklearn.feature_extraction.text import TfidfVectorizer"
   ]
  },
  {
   "cell_type": "code",
   "execution_count": 4,
   "metadata": {},
   "outputs": [],
   "source": [
    "#nltk.download('stopwords')\n",
    "#nltk.download('wordnet')\n",
    "\n",
    "def text_process(text):\n",
    "    '''\n",
    "    Takes in a string of text, then performs the following:\n",
    "    1. Remove all punctuation\n",
    "    2. Remove all stopwords\n",
    "    3. Return the cleaned text as a list of words\n",
    "    4. Remove words\n",
    "    '''\n",
    "    stemmer = WordNetLemmatizer()\n",
    "    nopunc = [char for char in text if char not in string.punctuation]\n",
    "    nopunc = ''.join([i for i in nopunc if not i.isdigit()])\n",
    "    nopunc = [word.lower() for word in nopunc.split()\n",
    "              if word not in stopwords.words('english')]\n",
    "    return [stemmer.lemmatize(word) for word in nopunc]\n",
    "\n",
    "df_clean = pd.read_csv(\"/Users/kassiewang/GitHub/cds/final_csv/us.csv\")\n",
    "df_clean.rename(columns = {'Text':'cleaned_text'}, inplace = True)\n",
    "df_clean = df_clean.dropna()\n",
    "\n",
    "def nlp(df):\n",
    "    # lowercase everything\n",
    "    # get rid of '\\n' from whitespace\n",
    "    # regex remove hyperlinks\n",
    "    # removing '&gt;'\n",
    "    # check for emojis\n",
    "    # remove emojis\n",
    "    # remove punctuation\n",
    "    # remove ' s ' from removing punctuation\n",
    "\n",
    "    # regex remove hyperlinks\n",
    "    df['cleaned_text'] = df['cleaned_text'].str.replace(\n",
    "        'http\\S+|www.\\S+', '', case=False)\n",
    "    # removing '&gt;'\n",
    "    df['cleaned_text'] = df['cleaned_text'].apply(\n",
    "        lambda x: x.replace('&gt;', ''))\n",
    "    # remove ' s ' that was created after removing punctuations\n",
    "    df['cleaned_text'] = df['cleaned_text'].apply(\n",
    "        lambda x: str(x).replace(\" s \", \" \"))\n",
    "    return df\n",
    "\n",
    "\n",
    "train_df = nlp(df_clean)\n",
    "train_comments = train_df['cleaned_text']"
   ]
  },
  {
   "cell_type": "code",
   "execution_count": null,
   "metadata": {},
   "outputs": [],
   "source": [
    "hmm = text_process(train_comments)"
   ]
  },
  {
   "cell_type": "code",
   "execution_count": 8,
   "metadata": {},
   "outputs": [],
   "source": [
    "dataf = pd.DataFrame()\n",
    "dataf['cleaned_text'] = hmm\n",
    "dataf = nlp(dataf)"
   ]
  },
  {
   "cell_type": "code",
   "execution_count": 10,
   "metadata": {},
   "outputs": [
    {
     "data": {
      "text/plain": [
       "(188328, 1)"
      ]
     },
     "execution_count": 10,
     "metadata": {},
     "output_type": "execute_result"
    }
   ],
   "source": [
    "dataf.shape"
   ]
  },
  {
   "cell_type": "code",
   "execution_count": 8,
   "metadata": {},
   "outputs": [],
   "source": [
    "vectorizer = TfidfVectorizer(analyzer=text_process,ngram_range=(1,3))\n",
    "tfidfconvert = vectorizer.fit(train_comments)\n",
    "X_transformed = tfidfconvert.transform(train_comments)"
   ]
  },
  {
   "cell_type": "code",
   "execution_count": 9,
   "metadata": {},
   "outputs": [],
   "source": [
    "#TfidfVec = TfidfVectorizer(tokenizer=LemNormalize, stop_words='english')\n",
    "def cos_similarity(textlist):\n",
    "    tfidf = vectorizer.fit_transform(textlist)\n",
    "    return (tfidf * tfidf.T).toarray()\n",
    "cos_mat = cos_similarity(train_comments)"
   ]
  },
  {
   "cell_type": "code",
   "execution_count": 10,
   "metadata": {},
   "outputs": [
    {
     "name": "stderr",
     "output_type": "stream",
     "text": [
      "/Users/kassiewang/opt/anaconda3/lib/python3.7/site-packages/sklearn/cluster/spectral.py:462: UserWarning: The spectral clustering API has changed. ``fit``now constructs an affinity matrix from data. To use a custom affinity matrix, set ``affinity=precomputed``.\n",
      "  warnings.warn(\"The spectral clustering API has changed. ``fit``\"\n"
     ]
    }
   ],
   "source": [
    "from sklearn.cluster import SpectralClustering\n",
    "scluster = SpectralClustering(4).fit_predict(cos_mat)"
   ]
  },
  {
   "cell_type": "code",
   "execution_count": null,
   "metadata": {
    "scrolled": true
   },
   "outputs": [],
   "source": [
    "#import seaborn as sns\n",
    "\n",
    "#heatplot = sns.heatmap(cos_similarity_matrix, linewidth=0.5)\n",
    "#plt.show()"
   ]
  },
  {
   "cell_type": "code",
   "execution_count": null,
   "metadata": {},
   "outputs": [],
   "source": [
    "from sklearn.cluster import KMeans"
   ]
  },
  {
   "cell_type": "code",
   "execution_count": 43,
   "metadata": {},
   "outputs": [],
   "source": [
    "num_clusters = 8\n",
    "km = KMeans(n_clusters=num_clusters)\n",
    "km.fit(cos_mat)\n",
    "\n",
    "clusters = km.labels_.tolist()"
   ]
  },
  {
   "cell_type": "code",
   "execution_count": 14,
   "metadata": {},
   "outputs": [],
   "source": [
    "#eigen_values, eigen_vectors = np.linalg.eigh(cos_mat)\n",
    "#movies=np.array(movies)\n",
    "#kmeans=KMeans(n_clusters=19).fit_predict(movies)\n",
    "#print(kmeans.labels_)\n",
    "\n",
    "#kclust = KMeans(n_clusters=4, init='k-means++').fit_predict(eigen_vectors[:, 2:4])\n",
    "#clusters = kclust.tolist()"
   ]
  },
  {
   "cell_type": "code",
   "execution_count": 92,
   "metadata": {},
   "outputs": [],
   "source": [
    "# Calling DataFrame constructor after zipping \n",
    "# both lists, with columns specified \n",
    "df = pd.DataFrame(list(zip(train_comments, km.labels_)), columns =['tweet', 'similarity_cluster']) \n",
    "\n",
    "#df.to_csv('/Users/kassiewang/GitHub/cds/final_csv/similaritycluster8.csv', index = False)"
   ]
  },
  {
   "cell_type": "code",
   "execution_count": 45,
   "metadata": {},
   "outputs": [],
   "source": [
    "#np.savetxt(\"similarity_matrix.csv\", cos_similarity_matrix, delimiter=\",\")"
   ]
  },
  {
   "cell_type": "code",
   "execution_count": 74,
   "metadata": {},
   "outputs": [
    {
     "data": {
      "text/plain": [
       "[('the', 125),\n",
       " ('briefing', 118),\n",
       " ('task', 90),\n",
       " ('coronavirus', 89),\n",
       " ('force', 85),\n",
       " ('a', 76),\n",
       " ('press', 71),\n",
       " ('of', 53),\n",
       " ('members', 43),\n",
       " ('hold', 42),\n",
       " ('on', 40),\n",
       " ('s.', 40),\n",
       " ('james', 39),\n",
       " ('brady', 39),\n",
       " ('briefing,', 31),\n",
       " ('in', 29),\n",
       " ('with', 27),\n",
       " ('room,', 27),\n",
       " ('pm', 26),\n",
       " ('schedule:', 25),\n",
       " ('at', 24),\n",
       " ('white', 24),\n",
       " ('room', 23),\n",
       " ('for', 21),\n",
       " ('house', 20),\n",
       " ('@whitehouse', 18),\n",
       " ('live', 17),\n",
       " ('to', 17),\n",
       " ('edt', 17),\n",
       " ('2020', 16),\n",
       " ('president', 15),\n",
       " ('and', 15),\n",
       " ('here:', 14),\n",
       " ('livestream', 14),\n",
       " ('@vp', 14),\n",
       " ('live:', 13),\n",
       " ('via', 13),\n",
       " ('is', 12),\n",
       " ('#coronavirus', 11),\n",
       " ('will', 11),\n",
       " ('@youtube', 11),\n",
       " ('@potus', 10),\n",
       " ('leads', 10),\n",
       " ('5:00pm', 10),\n",
       " ('watch', 9),\n",
       " ('–', 9),\n",
       " ('situation', 9),\n",
       " ('5:00', 9),\n",
       " ('april', 9),\n",
       " ('march', 9),\n",
       " ('trump', 8),\n",
       " ('vice', 8),\n",
       " ('meeting,', 8),\n",
       " ('room.', 8),\n",
       " ('camera', 8),\n",
       " ('@realdonaldtrump', 8),\n",
       " ('join', 8),\n",
       " ('camera:', 8),\n",
       " ('-', 8),\n",
       " ('holding', 7),\n",
       " ('#coronavirus.', 7),\n",
       " ('be', 7),\n",
       " ('has', 7),\n",
       " ('from', 7),\n",
       " ('🚨', 7),\n",
       " ('participates', 7),\n",
       " ('us', 7),\n",
       " ('call', 7),\n",
       " ('3:00', 6),\n",
       " ('office', 6),\n",
       " ('we', 6),\n",
       " ('@mike_pence', 6),\n",
       " ('updates', 5),\n",
       " ('5pm', 5),\n",
       " ('potus', 5),\n",
       " ('lunch', 5),\n",
       " ('private', 5),\n",
       " ('dining', 5),\n",
       " ('joins', 5),\n",
       " ('phone', 5),\n",
       " ('by', 4),\n",
       " ('camera.', 4),\n",
       " ('monday,', 4),\n",
       " ('house.', 4),\n",
       " ('oval', 4),\n",
       " ('it', 4),\n",
       " ('just', 4),\n",
       " ('are', 4),\n",
       " ('schedule', 4),\n",
       " ('link', 4),\n",
       " ('briefing.', 4),\n",
       " ('scheduled', 3),\n",
       " ('as', 3),\n",
       " ('daily', 3),\n",
       " ('begin', 3),\n",
       " ('12:30pm', 3),\n",
       " ('president,', 3),\n",
       " ('camera,', 3),\n",
       " ('here', 3),\n",
       " ('update', 3)]"
      ]
     },
     "execution_count": 74,
     "metadata": {},
     "output_type": "execute_result"
    }
   ],
   "source": [
    "clust = df[df['Cluster'] == 7]\n",
    "\n",
    "\n",
    "from collections import Counter\n",
    "Counter(\" \".join(clust[\"Tweet\"]).lower().split()).most_common(100)"
   ]
  },
  {
   "cell_type": "code",
   "execution_count": 87,
   "metadata": {},
   "outputs": [],
   "source": [
    "from sklearn import preprocessing\n",
    "\n",
    "data = pd.read_csv(\"/Users/kassiewang/GitHub/cds/final_csv/final_sentiment.csv\")\n",
    "\n",
    "x = data.iloc[: ,2:3].copy()\n",
    "x_scaled = preprocessing.scale(x)\n",
    "\n",
    "kmeans_new = KMeans(4)\n",
    "kmeans_new.fit(x_scaled)\n",
    "cluster_new = data.copy()\n",
    "cluster_new['cluster_pred'] = kmeans_new.fit_predict(x_scaled)"
   ]
  },
  {
   "cell_type": "code",
   "execution_count": 107,
   "metadata": {},
   "outputs": [],
   "source": [
    "finaldf.to_csv('/Users/kassiewang/GitHub/cds/final_csv/finalFINAL.csv', index = False)"
   ]
  },
  {
   "cell_type": "code",
   "execution_count": 95,
   "metadata": {},
   "outputs": [
    {
     "data": {
      "text/html": [
       "<div>\n",
       "<style scoped>\n",
       "    .dataframe tbody tr th:only-of-type {\n",
       "        vertical-align: middle;\n",
       "    }\n",
       "\n",
       "    .dataframe tbody tr th {\n",
       "        vertical-align: top;\n",
       "    }\n",
       "\n",
       "    .dataframe thead th {\n",
       "        text-align: right;\n",
       "    }\n",
       "</style>\n",
       "<table border=\"1\" class=\"dataframe\">\n",
       "  <thead>\n",
       "    <tr style=\"text-align: right;\">\n",
       "      <th></th>\n",
       "      <th>date</th>\n",
       "      <th>text</th>\n",
       "      <th>subjectivity</th>\n",
       "      <th>polarity</th>\n",
       "      <th>cluster_pred</th>\n",
       "    </tr>\n",
       "  </thead>\n",
       "  <tbody>\n",
       "    <tr>\n",
       "      <td>0</td>\n",
       "      <td>2020-04-21 23:43:59+00:00</td>\n",
       "      <td>\"I’m not looking for American heroism,\" the ec...</td>\n",
       "      <td>0.408929</td>\n",
       "      <td>0.046429</td>\n",
       "      <td>0</td>\n",
       "    </tr>\n",
       "    <tr>\n",
       "      <td>1</td>\n",
       "      <td>2020-04-21 23:40:01+00:00</td>\n",
       "      <td>Some GOOD news: https://7ny.tv/2xtKqr7 #girlsc...</td>\n",
       "      <td>0.600000</td>\n",
       "      <td>0.700000</td>\n",
       "      <td>3</td>\n",
       "    </tr>\n",
       "    <tr>\n",
       "      <td>2</td>\n",
       "      <td>2020-04-21 23:39:25+00:00</td>\n",
       "      <td>THREAD: There's risk a second wave of #COVID19...</td>\n",
       "      <td>0.275000</td>\n",
       "      <td>0.175000</td>\n",
       "      <td>0</td>\n",
       "    </tr>\n",
       "    <tr>\n",
       "      <td>3</td>\n",
       "      <td>2020-04-21 23:36:17+00:00</td>\n",
       "      <td>Asked about Georgia opening tattoo parlors, na...</td>\n",
       "      <td>0.375000</td>\n",
       "      <td>-0.125000</td>\n",
       "      <td>0</td>\n",
       "    </tr>\n",
       "    <tr>\n",
       "      <td>4</td>\n",
       "      <td>2020-04-21 23:32:13+00:00</td>\n",
       "      <td>President Trump blasted #harvarduniversity for...</td>\n",
       "      <td>0.650000</td>\n",
       "      <td>-0.425000</td>\n",
       "      <td>3</td>\n",
       "    </tr>\n",
       "  </tbody>\n",
       "</table>\n",
       "</div>"
      ],
      "text/plain": [
       "                        date  \\\n",
       "0  2020-04-21 23:43:59+00:00   \n",
       "1  2020-04-21 23:40:01+00:00   \n",
       "2  2020-04-21 23:39:25+00:00   \n",
       "3  2020-04-21 23:36:17+00:00   \n",
       "4  2020-04-21 23:32:13+00:00   \n",
       "\n",
       "                                                text  subjectivity  polarity  \\\n",
       "0  \"I’m not looking for American heroism,\" the ec...      0.408929  0.046429   \n",
       "1  Some GOOD news: https://7ny.tv/2xtKqr7 #girlsc...      0.600000  0.700000   \n",
       "2  THREAD: There's risk a second wave of #COVID19...      0.275000  0.175000   \n",
       "3  Asked about Georgia opening tattoo parlors, na...      0.375000 -0.125000   \n",
       "4  President Trump blasted #harvarduniversity for...      0.650000 -0.425000   \n",
       "\n",
       "   cluster_pred  \n",
       "0             0  \n",
       "1             3  \n",
       "2             0  \n",
       "3             0  \n",
       "4             3  "
      ]
     },
     "execution_count": 95,
     "metadata": {},
     "output_type": "execute_result"
    }
   ],
   "source": [
    "cluster_new.head()"
   ]
  },
  {
   "cell_type": "code",
   "execution_count": 91,
   "metadata": {},
   "outputs": [
    {
     "data": {
      "text/plain": [
       "(10402, 2)"
      ]
     },
     "execution_count": 91,
     "metadata": {},
     "output_type": "execute_result"
    }
   ],
   "source": [
    "df.shape"
   ]
  },
  {
   "cell_type": "code",
   "execution_count": 106,
   "metadata": {},
   "outputs": [],
   "source": [
    "finaldf = pd.merge(cluster_new, df, how='inner', left_on = 'text', right_on = 'tweet')"
   ]
  },
  {
   "cell_type": "code",
   "execution_count": 103,
   "metadata": {},
   "outputs": [
    {
     "data": {
      "text/html": [
       "<div>\n",
       "<style scoped>\n",
       "    .dataframe tbody tr th:only-of-type {\n",
       "        vertical-align: middle;\n",
       "    }\n",
       "\n",
       "    .dataframe tbody tr th {\n",
       "        vertical-align: top;\n",
       "    }\n",
       "\n",
       "    .dataframe thead th {\n",
       "        text-align: right;\n",
       "    }\n",
       "</style>\n",
       "<table border=\"1\" class=\"dataframe\">\n",
       "  <thead>\n",
       "    <tr style=\"text-align: right;\">\n",
       "      <th></th>\n",
       "      <th>date</th>\n",
       "      <th>text</th>\n",
       "      <th>subjectivity</th>\n",
       "      <th>polarity</th>\n",
       "      <th>cluster_pred</th>\n",
       "      <th>tweet</th>\n",
       "      <th>similarity_cluster</th>\n",
       "    </tr>\n",
       "  </thead>\n",
       "  <tbody>\n",
       "    <tr>\n",
       "      <td>12020</td>\n",
       "      <td>NaN</td>\n",
       "      <td>NaN</td>\n",
       "      <td>NaN</td>\n",
       "      <td>NaN</td>\n",
       "      <td>NaN</td>\n",
       "      <td>We can now confirm that a patient @UCDavisMedC...</td>\n",
       "      <td>5.0</td>\n",
       "    </tr>\n",
       "    <tr>\n",
       "      <td>12021</td>\n",
       "      <td>NaN</td>\n",
       "      <td>NaN</td>\n",
       "      <td>NaN</td>\n",
       "      <td>NaN</td>\n",
       "      <td>NaN</td>\n",
       "      <td>The regime delayed releasing #CoronaVirus outb...</td>\n",
       "      <td>1.0</td>\n",
       "    </tr>\n",
       "    <tr>\n",
       "      <td>12022</td>\n",
       "      <td>NaN</td>\n",
       "      <td>NaN</td>\n",
       "      <td>NaN</td>\n",
       "      <td>NaN</td>\n",
       "      <td>NaN</td>\n",
       "      <td>The Degree of Coronavirus Censorship Is In Pro...</td>\n",
       "      <td>1.0</td>\n",
       "    </tr>\n",
       "    <tr>\n",
       "      <td>12023</td>\n",
       "      <td>NaN</td>\n",
       "      <td>NaN</td>\n",
       "      <td>NaN</td>\n",
       "      <td>NaN</td>\n",
       "      <td>NaN</td>\n",
       "      <td>Meanwhile, in Spokane: “There is no risk to th...</td>\n",
       "      <td>1.0</td>\n",
       "    </tr>\n",
       "    <tr>\n",
       "      <td>12024</td>\n",
       "      <td>NaN</td>\n",
       "      <td>NaN</td>\n",
       "      <td>NaN</td>\n",
       "      <td>NaN</td>\n",
       "      <td>NaN</td>\n",
       "      <td>“Fecal transmission may be responsible for cor...</td>\n",
       "      <td>1.0</td>\n",
       "    </tr>\n",
       "  </tbody>\n",
       "</table>\n",
       "</div>"
      ],
      "text/plain": [
       "      date text  subjectivity  polarity  cluster_pred  \\\n",
       "12020  NaN  NaN           NaN       NaN           NaN   \n",
       "12021  NaN  NaN           NaN       NaN           NaN   \n",
       "12022  NaN  NaN           NaN       NaN           NaN   \n",
       "12023  NaN  NaN           NaN       NaN           NaN   \n",
       "12024  NaN  NaN           NaN       NaN           NaN   \n",
       "\n",
       "                                                   tweet  similarity_cluster  \n",
       "12020  We can now confirm that a patient @UCDavisMedC...                 5.0  \n",
       "12021  The regime delayed releasing #CoronaVirus outb...                 1.0  \n",
       "12022  The Degree of Coronavirus Censorship Is In Pro...                 1.0  \n",
       "12023  Meanwhile, in Spokane: “There is no risk to th...                 1.0  \n",
       "12024  “Fecal transmission may be responsible for cor...                 1.0  "
      ]
     },
     "execution_count": 103,
     "metadata": {},
     "output_type": "execute_result"
    }
   ],
   "source": [
    "finaldf.tail()"
   ]
  },
  {
   "cell_type": "code",
   "execution_count": 105,
   "metadata": {},
   "outputs": [
    {
     "data": {
      "text/plain": [
       "(9786, 7)"
      ]
     },
     "execution_count": 105,
     "metadata": {},
     "output_type": "execute_result"
    }
   ],
   "source": [
    "finaldf.shape"
   ]
  },
  {
   "cell_type": "code",
   "execution_count": 99,
   "metadata": {},
   "outputs": [
    {
     "data": {
      "text/plain": [
       "10157"
      ]
     },
     "execution_count": 99,
     "metadata": {},
     "output_type": "execute_result"
    }
   ],
   "source": [
    "len(cluster_new['text'].unique())"
   ]
  },
  {
   "cell_type": "code",
   "execution_count": 100,
   "metadata": {},
   "outputs": [
    {
     "data": {
      "text/plain": [
       "10148"
      ]
     },
     "execution_count": 100,
     "metadata": {},
     "output_type": "execute_result"
    }
   ],
   "source": [
    "len(df['tweet'].unique())"
   ]
  },
  {
   "cell_type": "code",
   "execution_count": 14,
   "metadata": {},
   "outputs": [
    {
     "data": {
      "text/plain": [
       "['hi', 'my', 'name']"
      ]
     },
     "execution_count": 14,
     "metadata": {},
     "output_type": "execute_result"
    }
   ],
   "source": [
    "x = \"hi, my, name\"\n",
    "maybe= x.split(', ')\n",
    "maybe"
   ]
  },
  {
   "cell_type": "code",
   "execution_count": null,
   "metadata": {},
   "outputs": [],
   "source": [
    "data = pd.read_csv(\"/Users/kassiewang/GitHub/cds/final_csv/cluster_averages.csv\")\n",
    "\n"
   ]
  }
 ],
 "metadata": {
  "kernelspec": {
   "display_name": "Python 3",
   "language": "python",
   "name": "python3"
  },
  "language_info": {
   "codemirror_mode": {
    "name": "ipython",
    "version": 3
   },
   "file_extension": ".py",
   "mimetype": "text/x-python",
   "name": "python",
   "nbconvert_exporter": "python",
   "pygments_lexer": "ipython3",
   "version": "3.7.6"
  }
 },
 "nbformat": 4,
 "nbformat_minor": 2
}
