{
 "cells": [
  {
   "cell_type": "code",
   "execution_count": 3,
   "metadata": {},
   "outputs": [],
   "source": [
    "import pandas as pd\n",
    "import numpy as np\n",
    "import matplotlib.pyplot as plt\n",
    "import glob\n",
    "import os\n",
    "import datetime\n",
    "import matplotlib.dates as mdates"
   ]
  },
  {
   "cell_type": "code",
   "execution_count": 4,
   "metadata": {},
   "outputs": [],
   "source": [
    "folder_path = '/Users/kassiewang/Downloads/csv/hashtags/'\n",
    "all_files = glob.glob(os.path.join(folder_path, \"*.csv\"))\n",
    "\n",
    "dfs = []\n",
    "\n",
    "for name in all_files:\n",
    "    df = pd.read_csv(name)\n",
    "    df['country'] = str(name[name.rfind('/')+1:-4])\n",
    "    dfs.append(df)\n",
    "\n",
    "hashtags = pd.concat(dfs)"
   ]
  },
  {
   "cell_type": "code",
   "execution_count": 6,
   "metadata": {},
   "outputs": [],
   "source": [
    "#Getting list of economic terms\n",
    "f = open('/Users/kassiewang/GitHub/coronavirus_project-CornellDataScience/Kassie/econvocab.txt', 'r')\n",
    "lines = f.readlines()\n",
    "allterms = ''\n",
    "for i in range(len(lines)):\n",
    "    line = lines[i].strip()\n",
    "    if i != 0:\n",
    "        allterms = allterms + '|' + line\n",
    "    else:\n",
    "        allterms = line\n",
    "\n",
    "feature = hashtags['text'].str.contains(allterms, case = False, na = False, regex = True)"
   ]
  },
  {
   "cell_type": "code",
   "execution_count": 7,
   "metadata": {},
   "outputs": [],
   "source": [
    "hashtags['contain_econ'] = feature\n",
    "hashtags['contain_econ'] = hashtags['contain_econ'].astype(int)\n",
    "hashtags['date'] = hashtags['date'].str[:10]\n",
    "hashtags['date'] = pd.to_datetime(hashtags['date'], errors='coerce')"
   ]
  },
  {
   "cell_type": "code",
   "execution_count": 8,
   "metadata": {},
   "outputs": [],
   "source": [
    "hashtags['country']= hashtags['country'].replace('uk', \"UK\")\n",
    "hashtags['country']= hashtags['country'].replace('italy', \"Italy\")\n",
    "hashtags['country']= hashtags['country'].replace('eastern_us', \"US\")\n",
    "hashtags['country']= hashtags['country'].replace('germany', \"Germany\")\n",
    "hashtags['country']= hashtags['country'].replace('france', \"France\")\n",
    "hashtags['country']= hashtags['country'].replace('spain', \"Spain\")\n",
    "hashtags['country']= hashtags['country'].replace('switzerland', \"Switzerland\")\n",
    "hashtags['country']= hashtags['country'].replace('south_korea', \"South Korea\")\n",
    "hashtags['country']= hashtags['country'].replace('iran', \"Iran\")\n",
    "hashtags['country']= hashtags['country'].replace('western_us', \"US\")"
   ]
  },
  {
   "cell_type": "code",
   "execution_count": 9,
   "metadata": {},
   "outputs": [
    {
     "name": "stderr",
     "output_type": "stream",
     "text": [
      "b'Skipping line 3: expected 5 fields, saw 6\\nSkipping line 276: expected 5 fields, saw 6\\nSkipping line 277: expected 5 fields, saw 6\\nSkipping line 278: expected 5 fields, saw 6\\nSkipping line 279: expected 5 fields, saw 6\\nSkipping line 1193: expected 5 fields, saw 6\\nSkipping line 1194: expected 5 fields, saw 6\\nSkipping line 1195: expected 5 fields, saw 6\\nSkipping line 1196: expected 5 fields, saw 6\\nSkipping line 1197: expected 5 fields, saw 6\\n'\n",
      "/Users/kassiewang/opt/anaconda3/lib/python3.7/site-packages/ipykernel_launcher.py:9: SettingWithCopyWarning: \n",
      "A value is trying to be set on a copy of a slice from a DataFrame.\n",
      "Try using .loc[row_indexer,col_indexer] = value instead\n",
      "\n",
      "See the caveats in the documentation: http://pandas.pydata.org/pandas-docs/stable/user_guide/indexing.html#returning-a-view-versus-a-copy\n",
      "  if __name__ == '__main__':\n",
      "/Users/kassiewang/opt/anaconda3/lib/python3.7/site-packages/pandas/core/frame.py:4223: SettingWithCopyWarning: \n",
      "A value is trying to be set on a copy of a slice from a DataFrame\n",
      "\n",
      "See the caveats in the documentation: http://pandas.pydata.org/pandas-docs/stable/user_guide/indexing.html#returning-a-view-versus-a-copy\n",
      "  return super().rename(**kwargs)\n"
     ]
    }
   ],
   "source": [
    "filepath = \"/Users/kassiewang/Downloads/csv/county_coronavirus_cases.csv\"\n",
    "rawcorona = pd.read_csv(filepath, error_bad_lines=False)\n",
    "rawcorona['Country.Region']= rawcorona['Country.Region'].replace('Mainland China', \"China\")\n",
    "\n",
    "countries = ['US', 'Italy', 'Germany', 'Switzerland', 'France', 'Iran', 'Spain', 'UK', 'China', 'South Korea']\n",
    "countriesstr = '|'.join(countries)\n",
    "\n",
    "cleancorona = rawcorona[rawcorona['Country.Region'].str.contains(countriesstr, case = True, regex = True)]\n",
    "cleancorona['ObservationDate'] = pd.to_datetime(cleancorona['ObservationDate'])\n",
    "cleancorona.rename(columns = {'ObservationDate':'date'}, inplace = True)\n",
    "             "
   ]
  },
  {
   "cell_type": "code",
   "execution_count": 10,
   "metadata": {},
   "outputs": [],
   "source": [
    "bydatetweets = hashtags.groupby(['date'],as_index=False).agg({'contain_econ': 'sum'})\n",
    "bydatecorona = cleancorona.groupby(by='date').sum()\n",
    "finaldf = pd.merge(bydatetweets, bydatecorona, how='inner', on = 'date')\n",
    "finaldf = finaldf.sort_values(by=['date'])\n",
    "finaldf.to_csv('/Users/kassiewang/Desktop/coronatweet_features.csv', index = False)"
   ]
  }
 ],
 "metadata": {
  "kernelspec": {
   "display_name": "Python 3",
   "language": "python",
   "name": "python3"
  },
  "language_info": {
   "codemirror_mode": {
    "name": "ipython",
    "version": 3
   },
   "file_extension": ".py",
   "mimetype": "text/x-python",
   "name": "python",
   "nbconvert_exporter": "python",
   "pygments_lexer": "ipython3",
   "version": "3.7.4"
  }
 },
 "nbformat": 4,
 "nbformat_minor": 2
}
