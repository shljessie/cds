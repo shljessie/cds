{
 "cells": [
  {
   "cell_type": "markdown",
   "metadata": {},
   "source": [
    "# Twitter Webscraping - 'coronavirus' searches"
   ]
  },
  {
   "cell_type": "markdown",
   "metadata": {},
   "source": [
    "I will be using the Python3 library GetOldTweets3 to webscrape tweets with the keyword 'coronavirus' in them.\n",
    "\n",
    "The csv files for this webscraping are available on https://github.com/shljessie/coronavirus_project-CornellDataScience"
   ]
  },
  {
   "cell_type": "markdown",
   "metadata": {},
   "source": [
    "pip install GetOldTweets3 if you don't already have the package\n",
    "\n",
    "make sure you are using a python version above 3.5"
   ]
  },
  {
   "cell_type": "code",
   "execution_count": 90,
   "metadata": {},
   "outputs": [],
   "source": [
    "#Imports\n",
    "\n",
    "import GetOldTweets3 as got\n",
    "import pandas as pd\n",
    "import datetime as dt\n",
    "import matplotlib.pyplot as plt\n",
    "import numpy as np\n",
    "import csv\n",
    "# from sklearn.metrics import accuracy_score\n",
    "# from sklearn.model_selection import train_test_split\n",
    "# from sklearn.tree import DecisionTreeClassifier\n",
    "# from sklearn.neighbors import KNeighborsClassifier\n",
    "# from sklearn import tree\n",
    "# from sklearn import datasets"
   ]
  },
  {
   "attachments": {},
   "cell_type": "markdown",
   "metadata": {},
   "source": [
    "## Query by Text Search\n",
    "\n",
    "Function is focused on completing the query then providing a CSV file of that query using pandas. Function that pulls tweets based on a general search query and turns to csv file\n",
    "\n",
    "For each country, I will search for all tweets that have the keyword 'coronavirus' \n",
    "\n",
    "- Period: January 30th to March 25th.\n",
    "- Amount: total of 100,000 tweets\n",
    "\n",
    "- Country: China, Italy, United States, Spain, Germany, Iran, France, Switzerland, South Korea, UK "
   ]
  },
  {
   "cell_type": "markdown",
   "metadata": {},
   "source": [
    "### TwitterCriteria: A collection of search parameters to be used together with TweetManager.\n",
    "\n",
    "setUsername (str or iterable): An optional specific username(s) from a twitter account (with or without \"@\").\n",
    "\n",
    "setSince (str. \"yyyy-mm-dd\"): A lower bound date (UTC) to restrict search.\n",
    "\n",
    "setUntil (str. \"yyyy-mm-dd\"): An upper bound date (not included) to restrict search.\n",
    "\n",
    "setQuerySearch (str): A query text to be matched.\n",
    "\n",
    "setTopTweets (bool): If True only the Top Tweets will be retrieved.\n",
    "\n",
    "setNear(str): A reference location area from where tweets were generated.\n",
    "\n",
    "setWithin (str): A distance radius from \"near\" location (e.g. 15mi).\n",
    "\n",
    "setMaxTweets (int): The maximum number of tweets to be retrieved. If this number is unsetted or lower than 1 all possible tweets will be retrieved."
   ]
  },
  {
   "cell_type": "markdown",
   "metadata": {},
   "source": [
    "## 1.United States -West Coast"
   ]
  },
  {
   "cell_type": "code",
   "execution_count": 91,
   "metadata": {},
   "outputs": [],
   "source": [
    "\n",
    "# 1. United States - West Coast\n",
    "# Setting the varibales for search\n",
    "text_query='coronavirus'\n",
    "since_date = '2020-01-30'\n",
    "until_date = '2020-03-25'\n",
    "near='41.232271, -110.714173'\n",
    "within='1207km'\n"
   ]
  },
  {
   "cell_type": "code",
   "execution_count": 98,
   "metadata": {},
   "outputs": [],
   "source": [
    "#creation of queryobject for West Coast\n",
    "tweetCriteria= got.manager.TweetCriteria().setQuerySearch(text_query)\\\n",
    "                                           .setSince(since_date)\\\n",
    "                                           .setUntil(until_date)\\\n",
    "                                           .setNear(near)\\\n",
    "                                           .setMaxTweets(1000)\\\n",
    "                                           .setWithin(within)\\\n",
    "                                           .setEmoji(\"unicode\")\n",
    "\n",
    "\n"
   ]
  },
  {
   "cell_type": "code",
   "execution_count": 100,
   "metadata": {},
   "outputs": [],
   "source": [
    "#creation of list that contains all tweets\n",
    "tweets = got.manager.TweetManager.getTweets(tweetCriteria)\n",
    "\n",
    "#creation of list of chosen tweet data\n",
    "text_tweets = [[tweet.text] for tweet in tweets]\n",
    "\n",
    "# Creation of dataframe from tweets\n",
    "tweets_df = pd.DataFrame(text_tweets, columns = ['Text'])\n",
    "\n",
    "# Converting tweets dataframe to csv file\n",
    "tweets_df.to_csv('us_west_coronavirus.csv'.format(text_query, int(100/1000)), sep=',')\n"
   ]
  },
  {
   "cell_type": "markdown",
   "metadata": {},
   "source": [
    "## 2. United States- East Coast"
   ]
  },
  {
   "cell_type": "code",
   "execution_count": 104,
   "metadata": {},
   "outputs": [],
   "source": [
    "\n",
    "# 2. United States - East Coast\n",
    "# Setting the varibales for search\n",
    "text_query='coronavirus'\n",
    "since_date = '2020-01-30'\n",
    "until_date = '2020-03-25'\n",
    "near='37.920582, -83.827201'\n",
    "within='1448km'\n"
   ]
  },
  {
   "cell_type": "code",
   "execution_count": 105,
   "metadata": {},
   "outputs": [],
   "source": [
    "#creation of queryobject for US East Coast\n",
    "tweetCriteria= got.manager.TweetCriteria().setQuerySearch(text_query)\\\n",
    "                                           .setSince(since_date)\\\n",
    "                                           .setUntil(until_date)\\\n",
    "                                           .setNear(near)\\\n",
    "                                           .setMaxTweets(1000)\\\n",
    "                                           .setWithin(within)\\\n",
    "                                           .setEmoji(\"unicode\")"
   ]
  },
  {
   "cell_type": "code",
   "execution_count": 106,
   "metadata": {},
   "outputs": [],
   "source": [
    "#creation of list that contains all tweets\n",
    "tweets = got.manager.TweetManager.getTweets(tweetCriteria)\n",
    "\n",
    "#creation of list of chosen tweet data\n",
    "text_tweets = [[tweet.text] for tweet in tweets]\n",
    "\n",
    "# Creation of dataframe from tweets\n",
    "tweets_df = pd.DataFrame(text_tweets, columns = ['Text'])\n",
    "\n",
    "# Converting tweets dataframe to csv file\n",
    "tweets_df.to_csv('us_east_coronavirus.csv'.format(text_query, int(100/1000)), sep=',')"
   ]
  },
  {
   "cell_type": "markdown",
   "metadata": {},
   "source": [
    "## 3. China"
   ]
  },
  {
   "cell_type": "code",
   "execution_count": 110,
   "metadata": {},
   "outputs": [],
   "source": [
    "# 3. China - in chinese\n",
    "# Setting the varibales for search\n",
    "text_query='冠状病毒组'\n",
    "since_date = '2020-01-30'\n",
    "until_date = '2020-03-25'\n",
    "near='34.838038, 109.535915'\n",
    "within='1931km'"
   ]
  },
  {
   "cell_type": "code",
   "execution_count": 111,
   "metadata": {},
   "outputs": [],
   "source": [
    "#creation of queryobject for China\n",
    "tweetCriteria= got.manager.TweetCriteria().setQuerySearch(text_query)\\\n",
    "                                           .setSince(since_date)\\\n",
    "                                           .setUntil(until_date)\\\n",
    "                                           .setNear(near)\\\n",
    "                                           .setMaxTweets(1000)\\\n",
    "                                           .setWithin(within)\\\n",
    "                                           .setEmoji(\"unicode\")"
   ]
  },
  {
   "cell_type": "code",
   "execution_count": 112,
   "metadata": {},
   "outputs": [],
   "source": [
    "#creation of list that contains all tweets\n",
    "tweets = got.manager.TweetManager.getTweets(tweetCriteria)\n",
    "\n",
    "#creation of list of chosen tweet data\n",
    "text_tweets = [[tweet.text] for tweet in tweets]\n",
    "\n",
    "# Creation of dataframe from tweets\n",
    "tweets_df = pd.DataFrame(text_tweets, columns = ['Text'])\n",
    "\n",
    "# Converting tweets dataframe to csv file\n",
    "tweets_df.to_csv('china_coronavirus_chinese.csv'.format(text_query, int(100/1000)), sep=',')"
   ]
  },
  {
   "cell_type": "code",
   "execution_count": 117,
   "metadata": {},
   "outputs": [],
   "source": [
    "# 3-1 China -in english\n",
    "# Setting the varibales for search\n",
    "text_query='coronavirus'\n",
    "since_date = '2020-01-30'\n",
    "until_date = '2020-03-25'\n",
    "near='34.838038, 109.535915'\n",
    "within='1931km'"
   ]
  },
  {
   "cell_type": "code",
   "execution_count": 118,
   "metadata": {},
   "outputs": [],
   "source": [
    "#creation of queryobject for China\n",
    "tweetCriteria= got.manager.TweetCriteria().setQuerySearch(text_query)\\\n",
    "                                           .setSince(since_date)\\\n",
    "                                           .setUntil(until_date)\\\n",
    "                                           .setNear(near)\\\n",
    "                                           .setMaxTweets(1000)\\\n",
    "                                           .setWithin(within)\\\n",
    "                                           .setEmoji(\"unicode\")"
   ]
  },
  {
   "cell_type": "code",
   "execution_count": 119,
   "metadata": {},
   "outputs": [],
   "source": [
    "#creation of list that contains all tweets\n",
    "tweets = got.manager.TweetManager.getTweets(tweetCriteria)\n",
    "\n",
    "#creation of list of chosen tweet data\n",
    "text_tweets = [[tweet.text] for tweet in tweets]\n",
    "\n",
    "# Creation of dataframe from tweets\n",
    "tweets_df = pd.DataFrame(text_tweets, columns = ['Text'])\n",
    "\n",
    "# Converting tweets dataframe to csv file\n",
    "tweets_df.to_csv('china_coronavirus2.csv'.format(text_query, int(100/1000)), sep=',')"
   ]
  },
  {
   "cell_type": "markdown",
   "metadata": {},
   "source": [
    "## 4. Rome, Italy"
   ]
  },
  {
   "cell_type": "code",
   "execution_count": 120,
   "metadata": {},
   "outputs": [],
   "source": [
    "# 4. Rome, Italy\n",
    "# Setting the varibales for search\n",
    "text_query='coronavirus'\n",
    "since_date = '2020-01-30'\n",
    "until_date = '2020-03-25'\n",
    "near='41.88375, 12.48736'\n",
    "within='477km'"
   ]
  },
  {
   "cell_type": "code",
   "execution_count": 121,
   "metadata": {},
   "outputs": [],
   "source": [
    "#creation of queryobject for Rome, Italy\n",
    "tweetCriteria= got.manager.TweetCriteria().setQuerySearch(text_query)\\\n",
    "                                           .setSince(since_date)\\\n",
    "                                           .setUntil(until_date)\\\n",
    "                                           .setNear(near)\\\n",
    "                                           .setMaxTweets(1000)\\\n",
    "                                           .setWithin(within)\\\n",
    "                                           .setEmoji(\"unicode\")"
   ]
  },
  {
   "cell_type": "code",
   "execution_count": 122,
   "metadata": {},
   "outputs": [],
   "source": [
    "#creation of list that contains all tweets\n",
    "tweets = got.manager.TweetManager.getTweets(tweetCriteria)\n",
    "\n",
    "#creation of list of chosen tweet data\n",
    "text_tweets = [[tweet.text] for tweet in tweets]\n",
    "\n",
    "# Creation of dataframe from tweets\n",
    "tweets_df = pd.DataFrame(text_tweets, columns = ['Text'])\n",
    "\n",
    "# Converting tweets dataframe to csv file\n",
    "tweets_df.to_csv('italy_coronavirus.csv'.format(text_query, int(100/1000)), sep=',')"
   ]
  },
  {
   "cell_type": "markdown",
   "metadata": {},
   "source": [
    "## 5. Germany"
   ]
  },
  {
   "cell_type": "code",
   "execution_count": 123,
   "metadata": {},
   "outputs": [],
   "source": [
    "# 5. Germany\n",
    "# Setting the varibales for search\n",
    "text_query='coronavirus'\n",
    "since_date = '2020-01-30'\n",
    "until_date = '2020-03-25'\n",
    "near='50.98341, 10.31572'\n",
    "within='428km'"
   ]
  },
  {
   "cell_type": "code",
   "execution_count": 124,
   "metadata": {},
   "outputs": [],
   "source": [
    "#creation of queryobject for Germany\n",
    "tweetCriteria= got.manager.TweetCriteria().setQuerySearch(text_query)\\\n",
    "                                           .setSince(since_date)\\\n",
    "                                           .setUntil(until_date)\\\n",
    "                                           .setNear(near)\\\n",
    "                                           .setMaxTweets(1000)\\\n",
    "                                           .setWithin(within)\\\n",
    "                                           .setEmoji(\"unicode\")"
   ]
  },
  {
   "cell_type": "code",
   "execution_count": 125,
   "metadata": {},
   "outputs": [],
   "source": [
    "#creation of list that contains all tweets\n",
    "tweets = got.manager.TweetManager.getTweets(tweetCriteria)\n",
    "\n",
    "#creation of list of chosen tweet data\n",
    "text_tweets = [[tweet.text] for tweet in tweets]\n",
    "\n",
    "# Creation of dataframe from tweets\n",
    "tweets_df = pd.DataFrame(text_tweets, columns = ['Text'])\n",
    "\n",
    "# Converting tweets dataframe to csv file\n",
    "tweets_df.to_csv('germany_coronavirus.csv'.format(text_query, int(100/1000)), sep=',')"
   ]
  },
  {
   "cell_type": "markdown",
   "metadata": {},
   "source": [
    "## 6. Switzerland"
   ]
  },
  {
   "cell_type": "code",
   "execution_count": 126,
   "metadata": {},
   "outputs": [],
   "source": [
    "# 6. Switzerland\n",
    "# Setting the varibales for search\n",
    "text_query='coronavirus'\n",
    "since_date = '2020-01-30'\n",
    "until_date = '2020-03-25'\n",
    "near='46.82772, 8.41590'\n",
    "within='130km'"
   ]
  },
  {
   "cell_type": "code",
   "execution_count": 127,
   "metadata": {},
   "outputs": [],
   "source": [
    "#creation of queryobject for Switzerland\n",
    "tweetCriteria= got.manager.TweetCriteria().setQuerySearch(text_query)\\\n",
    "                                           .setSince(since_date)\\\n",
    "                                           .setUntil(until_date)\\\n",
    "                                           .setNear(near)\\\n",
    "                                           .setMaxTweets(1000)\\\n",
    "                                           .setWithin(within)\\\n",
    "                                           .setEmoji(\"unicode\")"
   ]
  },
  {
   "cell_type": "code",
   "execution_count": 128,
   "metadata": {},
   "outputs": [],
   "source": [
    "#creation of list that contains all tweets\n",
    "tweets = got.manager.TweetManager.getTweets(tweetCriteria)\n",
    "\n",
    "#creation of list of chosen tweet data\n",
    "text_tweets = [[tweet.text] for tweet in tweets]\n",
    "\n",
    "# Creation of dataframe from tweets\n",
    "tweets_df = pd.DataFrame(text_tweets, columns = ['Text'])\n",
    "\n",
    "# Converting tweets dataframe to csv file\n",
    "tweets_df.to_csv('swiss_coronavirus.csv'.format(text_query, int(100/1000)), sep=',')"
   ]
  },
  {
   "cell_type": "markdown",
   "metadata": {},
   "source": [
    "## 7. France"
   ]
  },
  {
   "cell_type": "code",
   "execution_count": 129,
   "metadata": {},
   "outputs": [],
   "source": [
    "# 7. France\n",
    "# Setting the varibales for search\n",
    "text_query='coronavirus'\n",
    "since_date = '2020-01-30'\n",
    "until_date = '2020-03-25'\n",
    "near='47.70699, 3.33762 '\n",
    "within='450km'"
   ]
  },
  {
   "cell_type": "code",
   "execution_count": 130,
   "metadata": {},
   "outputs": [],
   "source": [
    "#creation of queryobject for France\n",
    "tweetCriteria= got.manager.TweetCriteria().setQuerySearch(text_query)\\\n",
    "                                           .setSince(since_date)\\\n",
    "                                           .setUntil(until_date)\\\n",
    "                                           .setNear(near)\\\n",
    "                                           .setMaxTweets(1000)\\\n",
    "                                           .setWithin(within)\\\n",
    "                                           .setEmoji(\"unicode\")"
   ]
  },
  {
   "cell_type": "code",
   "execution_count": 131,
   "metadata": {},
   "outputs": [],
   "source": [
    "#creation of list that contains all tweets\n",
    "tweets = got.manager.TweetManager.getTweets(tweetCriteria)\n",
    "\n",
    "#creation of list of chosen tweet data\n",
    "text_tweets = [[tweet.text] for tweet in tweets]\n",
    "\n",
    "# Creation of dataframe from tweets\n",
    "tweets_df = pd.DataFrame(text_tweets, columns = ['Text'])\n",
    "\n",
    "# Converting tweets dataframe to csv file\n",
    "tweets_df.to_csv('french_coronavirus.csv'.format(text_query, int(100/1000)), sep=',')"
   ]
  },
  {
   "cell_type": "markdown",
   "metadata": {},
   "source": [
    "## 8. Iran"
   ]
  },
  {
   "cell_type": "code",
   "execution_count": 147,
   "metadata": {},
   "outputs": [],
   "source": [
    "# 8. Iran\n",
    "# Setting the varibales for search\n",
    "text_query='ویروس کرونا#'\n",
    "since_date = '2020-01-30'\n",
    "until_date = '2020-03-25'\n",
    "near='31.87864, 54.35253'\n",
    "within='700km'"
   ]
  },
  {
   "cell_type": "code",
   "execution_count": 148,
   "metadata": {},
   "outputs": [],
   "source": [
    "#creation of queryobject for Iran\n",
    "tweetCriteria= got.manager.TweetCriteria().setQuerySearch(text_query)\\\n",
    "                                           .setSince(since_date)\\\n",
    "                                           .setUntil(until_date)\\\n",
    "                                           .setNear(near)\\\n",
    "                                           .setMaxTweets(1000)\\\n",
    "                                           .setWithin(within)\\\n",
    "                                           .setEmoji(\"unicode\")"
   ]
  },
  {
   "cell_type": "code",
   "execution_count": 149,
   "metadata": {},
   "outputs": [],
   "source": [
    "#creation of list that contains all tweets\n",
    "tweets = got.manager.TweetManager.getTweets(tweetCriteria)\n",
    "\n",
    "#creation of list of chosen tweet data\n",
    "text_tweets = [[tweet.text] for tweet in tweets]\n",
    "\n",
    "# Creation of dataframe from tweets\n",
    "tweets_df = pd.DataFrame(text_tweets, columns = ['Text'])\n",
    "\n",
    "# Converting tweets dataframe to csv file\n",
    "tweets_df.to_csv('iran_coronavirus.csv'.format(text_query, int(100/1000)), sep=',')"
   ]
  },
  {
   "cell_type": "markdown",
   "metadata": {},
   "source": [
    "## 9.Spain"
   ]
  },
  {
   "cell_type": "code",
   "execution_count": 135,
   "metadata": {},
   "outputs": [],
   "source": [
    "# 9. Spain\n",
    "# Setting the varibales for search\n",
    "text_query='coronavirus'\n",
    "since_date = '2020-01-30'\n",
    "until_date = '2020-03-25'\n",
    "near='40.42953, -3.67932'\n",
    "within='323km'"
   ]
  },
  {
   "cell_type": "code",
   "execution_count": 136,
   "metadata": {},
   "outputs": [],
   "source": [
    "#creation of queryobject for Spain\n",
    "tweetCriteria= got.manager.TweetCriteria().setQuerySearch(text_query)\\\n",
    "                                           .setSince(since_date)\\\n",
    "                                           .setUntil(until_date)\\\n",
    "                                           .setNear(near)\\\n",
    "                                           .setMaxTweets(1000)\\\n",
    "                                           .setWithin(within)\\\n",
    "                                           .setEmoji(\"unicode\")"
   ]
  },
  {
   "cell_type": "code",
   "execution_count": 137,
   "metadata": {},
   "outputs": [],
   "source": [
    "#creation of list that contains all tweets\n",
    "tweets = got.manager.TweetManager.getTweets(tweetCriteria)\n",
    "\n",
    "#creation of list of chosen tweet data\n",
    "text_tweets = [[tweet.text] for tweet in tweets]\n",
    "\n",
    "# Creation of dataframe from tweets\n",
    "tweets_df = pd.DataFrame(text_tweets, columns = ['Text'])\n",
    "\n",
    "# Converting tweets dataframe to csv file\n",
    "tweets_df.to_csv('spain_coronavirus.csv'.format(text_query, int(100/1000)), sep=',')"
   ]
  },
  {
   "cell_type": "markdown",
   "metadata": {},
   "source": [
    "## 10. UK"
   ]
  },
  {
   "cell_type": "code",
   "execution_count": 141,
   "metadata": {},
   "outputs": [],
   "source": [
    "# 10. UK\n",
    "# Setting the varibales for search\n",
    "text_query='coronavirus'\n",
    "since_date = '2020-01-30'\n",
    "until_date = '2020-03-25'\n",
    "near='53.47966, -2.26625 '\n",
    "within='437km'"
   ]
  },
  {
   "cell_type": "code",
   "execution_count": 142,
   "metadata": {},
   "outputs": [],
   "source": [
    "#creation of queryobject for UK\n",
    "tweetCriteria= got.manager.TweetCriteria().setQuerySearch(text_query)\\\n",
    "                                           .setSince(since_date)\\\n",
    "                                           .setUntil(until_date)\\\n",
    "                                           .setNear(near)\\\n",
    "                                           .setMaxTweets(1000)\\\n",
    "                                           .setWithin(within)\\\n",
    "                                           .setEmoji(\"unicode\")"
   ]
  },
  {
   "cell_type": "code",
   "execution_count": 143,
   "metadata": {},
   "outputs": [],
   "source": [
    "#creation of list that contains all tweets\n",
    "tweets = got.manager.TweetManager.getTweets(tweetCriteria)\n",
    "\n",
    "#creation of list of chosen tweet data\n",
    "text_tweets = [[tweet.text] for tweet in tweets]\n",
    "\n",
    "# Creation of dataframe from tweets\n",
    "tweets_df = pd.DataFrame(text_tweets, columns = ['Text'])\n",
    "\n",
    "# Converting tweets dataframe to csv file\n",
    "tweets_df.to_csv('uk_coronavirus.csv'.format(text_query, int(100/1000)), sep=',')"
   ]
  },
  {
   "cell_type": "markdown",
   "metadata": {},
   "source": [
    "## 11. South Korea"
   ]
  },
  {
   "cell_type": "code",
   "execution_count": 144,
   "metadata": {},
   "outputs": [],
   "source": [
    "# 11. South Korea\n",
    "# Setting the varibales for search\n",
    "text_query='coronavirus'\n",
    "since_date = '2020-01-30'\n",
    "until_date = '2020-03-25'\n",
    "near='36.41540, 128.17752'\n",
    "within='238km'"
   ]
  },
  {
   "cell_type": "code",
   "execution_count": 145,
   "metadata": {},
   "outputs": [],
   "source": [
    "#creation of queryobject for UK\n",
    "tweetCriteria= got.manager.TweetCriteria().setQuerySearch(text_query)\\\n",
    "                                           .setSince(since_date)\\\n",
    "                                           .setUntil(until_date)\\\n",
    "                                           .setNear(near)\\\n",
    "                                           .setMaxTweets(1000)\\\n",
    "                                           .setWithin(within)\\\n",
    "                                           .setEmoji(\"unicode\")"
   ]
  },
  {
   "cell_type": "code",
   "execution_count": 146,
   "metadata": {},
   "outputs": [],
   "source": [
    "#creation of list that contains all tweets\n",
    "tweets = got.manager.TweetManager.getTweets(tweetCriteria)\n",
    "\n",
    "#creation of list of chosen tweet data\n",
    "text_tweets = [[tweet.text] for tweet in tweets]\n",
    "\n",
    "# Creation of dataframe from tweets\n",
    "tweets_df = pd.DataFrame(text_tweets, columns = ['Text'])\n",
    "\n",
    "# Converting tweets dataframe to csv file\n",
    "tweets_df.to_csv('korea_coronavirus.csv'.format(text_query, int(100/1000)), sep=',')"
   ]
  }
 ],
 "metadata": {
  "kernelspec": {
   "display_name": "Python 3",
   "language": "python",
   "name": "python3"
  },
  "language_info": {
   "codemirror_mode": {
    "name": "ipython",
    "version": 3
   },
   "file_extension": ".py",
   "mimetype": "text/x-python",
   "name": "python",
   "nbconvert_exporter": "python",
   "pygments_lexer": "ipython3",
   "version": "3.6.5"
  }
 },
 "nbformat": 4,
 "nbformat_minor": 2
}
